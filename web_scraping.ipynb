{
 "cells": [
  {
   "cell_type": "code",
   "execution_count": 1,
   "metadata": {},
   "outputs": [],
   "source": [
    "# input the years for which you want to access the data\n",
    "years = [1994, 1995, 1996] "
   ]
  },
  {
   "cell_type": "code",
   "execution_count": 2,
   "metadata": {},
   "outputs": [],
   "source": [
    "# url for the chicago bulls team \n",
    "url_start = \"https://www.basketball-reference.com/teams/CHI/{}.html\""
   ]
  },
  {
   "cell_type": "code",
   "execution_count": 3,
   "metadata": {},
   "outputs": [],
   "source": [
    "# # gets you the data and stores it in the Storage file \n",
    "# import requests\n",
    "\n",
    "# for year in years: \n",
    "#     url = url_start.format(year)\n",
    "#     data = requests.get(url)\n",
    "#     f = open(\"Storage/{}.html\".format(year), \"w+\", encoding=\"utf-8\")\n",
    "#     f.write(data.text)\n",
    "# # Uncomment only when years changes"
   ]
  },
  {
   "cell_type": "code",
   "execution_count": 4,
   "metadata": {},
   "outputs": [],
   "source": [
    "# select dataframe based on the title \n",
    "# Adding a year column so we know which year it is \n",
    "pergame_table = []\n",
    "import pandas as pd \n",
    "from bs4 import BeautifulSoup\n",
    "\n",
    "for i in years:\n",
    "    with open(\"Storage/1996.html\", encoding = \"utf-8\") as f: \n",
    "        page = f.read()\n",
    "        soup = BeautifulSoup(page, \"html.parser\") # creates a parser class that will help us extract the html code from the page\n",
    "        pergame = soup.find(id=\"per_game\")\n",
    "        pd.read_html(str(pergame))[0]\n",
    "        df = pd.read_html(str(pergame))[0]\n",
    "        df.insert(0, \"Year\", i)\n",
    "        pergame_table.append(df)"
   ]
  },
  {
   "cell_type": "code",
   "execution_count": 5,
   "metadata": {},
   "outputs": [
    {
     "name": "stdout",
     "output_type": "stream",
     "text": [
      "Found\n"
     ]
    }
   ],
   "source": [
    "# Code to find the year that is required \n",
    "reqYear = 1994\n",
    "\n",
    "for i in pergame_table: \n",
    "    yr = i[\"Year\"][0]\n",
    "    if yr == reqYear: \n",
    "        print(\"Found\")"
   ]
  },
  {
   "cell_type": "code",
   "execution_count": 6,
   "metadata": {},
   "outputs": [],
   "source": [
    "\n",
    "def FindStats(df): \n",
    "    names = df[\"Unnamed: 1\"]\n",
    "    FG = df[\"FG\"]\n",
    "    Assist = df[\"AST\"]\n",
    "    pointsPerGame = df[\"PTS/G\"]\n",
    "    year = df[\"Year\"]\n",
    "    dict = {\"Year\": year, \"Names\": names, \"Field Goals\": FG, \"Assists\": Assist, \"pointsPerGame\":pointsPerGame}\n",
    "    \n",
    "    return pd.DataFrame(dict)"
   ]
  },
  {
   "cell_type": "code",
   "execution_count": 8,
   "metadata": {},
   "outputs": [],
   "source": [
    "pg = FindStats(pergame_table[0])\n",
    "fg = pg[\"Field Goals\"]\n",
    "names = pg[\"Names\"]\n",
    "assist = pg[\"Assists\"]\n",
    "ppg = pg[\"pointsPerGame\"]"
   ]
  },
  {
   "cell_type": "code",
   "execution_count": 9,
   "metadata": {},
   "outputs": [
    {
     "name": "stderr",
     "output_type": "stream",
     "text": [
      "C:\\Users\\birat\\AppData\\Local\\Temp\\ipykernel_9492\\261191277.py:14: UserWarning: FixedFormatter should only be used together with FixedLocator\n",
      "  ax.set_xticklabels(names, rotation = 90)\n"
     ]
    },
    {
     "data": {
      "text/plain": [
       "<matplotlib.legend.Legend at 0x266a1fa66d0>"
      ]
     },
     "execution_count": 9,
     "metadata": {},
     "output_type": "execute_result"
    },
    {
     "data": {
      "image/png": "[encoded data removed]",
      "text/plain": [
       "<Figure size 1296x360 with 1 Axes>"
      ]
     },
     "metadata": {
      "needs_background": "light"
     },
     "output_type": "display_data"
    }
   ],
   "source": [
    "# Lets me plot the graph in a way that I can represt the data for the people quite easily\n",
    "\n",
    "import matplotlib.pyplot as plt\n",
    "import numpy as np\n",
    "\n",
    "x = np.arange(len(fg)) \n",
    "x = x -1\n",
    "\n",
    "f, ax = plt.subplots(figsize=(18,5))\n",
    "\n",
    "ax.bar(x-0.2, fg, width=0.2, color='b', align='center', label = \"Field Goals\")\n",
    "ax.bar(x, assist, width=0.2, color='g', align='center', label = \"Assists\")\n",
    "ax.bar(x+0.2, ppg, width=0.2, color='r', align='center', label = \"Points Per Game\")\n",
    "ax.set_xticklabels(names, rotation = 90)\n",
    "start, end = ax.get_xlim()\n",
    "stepsiassiste = 1\n",
    "ax.xaxis.set_ticks(np.arange(start + 1, end, stepsiassiste))\n",
    "\n",
    "ax.legend()"
   ]
  },
  {
   "cell_type": "code",
   "execution_count": 10,
   "metadata": {},
   "outputs": [
    {
     "ename": "TypeError",
     "evalue": "'list' object cannot be interpreted as an integer",
     "output_type": "error",
     "traceback": [
      "\u001b[1;31m---------------------------------------------------------------------------\u001b[0m",
      "\u001b[1;31mTypeError\u001b[0m                                 Traceback (most recent call last)",
      "Input \u001b[1;32mIn [10]\u001b[0m, in \u001b[0;36m<cell line: 5>\u001b[1;34m()\u001b[0m\n\u001b[0;32m      3\u001b[0m PG \u001b[38;5;241m=\u001b[39m []\n\u001b[0;32m      4\u001b[0m years \u001b[38;5;241m=\u001b[39m []\n\u001b[1;32m----> 5\u001b[0m \u001b[38;5;28;01mfor\u001b[39;00m i \u001b[38;5;129;01min\u001b[39;00m \u001b[38;5;28;43mrange\u001b[39;49m\u001b[43m(\u001b[49m\u001b[43mpergame_table\u001b[49m\u001b[43m)\u001b[49m :\n\u001b[0;32m      6\u001b[0m     pg \u001b[38;5;241m=\u001b[39m pergame_table[i]\n",
      "\u001b[1;31mTypeError\u001b[0m: 'list' object cannot be interpreted as an integer"
     ]
    }
   ],
   "source": [
    "# Lets plot the data where it's easy \n",
    "name = \"Micheal Jordan\"\n",
    "PG = []\n",
    "years = []\n",
    "for i in pergame_table:\n",
    "    pg = pergame_table[i]\n",
    "    names = pg[\"Name\"]\n",
    "    \n",
    "    "
   ]
  }
 ],
 "metadata": {
  "kernelspec": {
   "display_name": "Python 3 (ipykernel)",
   "language": "python",
   "name": "python3"
  },
  "language_info": {
   "codemirror_mode": {
    "name": "ipython",
    "version": 3
   },
   "file_extension": ".py",
   "mimetype": "text/x-python",
   "name": "python",
   "nbconvert_exporter": "python",
   "pygments_lexer": "ipython3",
   "version": "3.9.12"
  },
  "vscode": {
   "interpreter": {
    "hash": "d850ae00bc40dfc8433057f5becab0d0ff9bac1b3b7822254cc13391e260b37a"
   }
  }
 },
 "nbformat": 4,
 "nbformat_minor": 2
}
